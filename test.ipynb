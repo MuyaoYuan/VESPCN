{
 "cells": [
  {
   "cell_type": "code",
   "execution_count": null,
   "metadata": {},
   "outputs": [],
   "source": [
    "import numpy as np\n",
    "import os"
   ]
  },
  {
   "cell_type": "code",
   "execution_count": null,
   "metadata": {},
   "outputs": [],
   "source": [
    "path_in = \"dataset/DIV2K_train_LR_bicubic_X2\"\n",
    "path_label = \"dataset/DIV2K_train_HR\"\n",
    "\n",
    "file_list_input = os.listdir(path_in)\n",
    "file_list_input.sort(key=lambda x:int(x[:-6]))\n",
    "file_list_label = os.listdir(path_label)\n",
    "file_list_label.sort(key=lambda x:int(x[:-4])) #倒着数第四位'.'为分界线，按照‘.'左边的数字从小到大排序"
   ]
  },
  {
   "cell_type": "code",
   "execution_count": null,
   "metadata": {},
   "outputs": [],
   "source": [
    "print(file_list_label)"
   ]
  },
  {
   "cell_type": "code",
   "execution_count": null,
   "metadata": {},
   "outputs": [],
   "source": [
    "from torch.utils.data import Dataset, DataLoader\n",
    "from dataset import *"
   ]
  },
  {
   "cell_type": "code",
   "execution_count": null,
   "metadata": {},
   "outputs": [],
   "source": [
    "train_path_in = \"dataset/DIV2K_train_LR_bicubic_X2\"\n",
    "train_path_label = \"dataset/DIV2K_train_HR\"\n",
    "valid_path_in = \"dataset/DIV2K_valid_LR_bicubic_X2\"\n",
    "valid_path_label = \"dataset/DIV2K_valid_HR\"\n",
    "batch_size = 1\n",
    "trainDataset = MyDataset(dir_input=train_path_in,dir_label=train_path_label,transform=ToTensor())\n",
    "# myDataLoader = DataLoader(myDataset, batch_size=batch_size, shuffle=True, collate_fn =my_collate)\n",
    "trainDataLoader = DataLoader(trainDataset, batch_size=batch_size, shuffle=True)\n",
    "validDataset = MyDataset(dir_input=valid_path_in,dir_label=valid_path_label,transform=ToTensor())\n",
    "validDataLoader = DataLoader(validDataset, batch_size=batch_size, shuffle=True)"
   ]
  },
  {
   "cell_type": "code",
   "execution_count": null,
   "metadata": {},
   "outputs": [],
   "source": [
    "validDataIter = iter(validDataLoader)\n",
    "validDataIter.next()"
   ]
  },
  {
   "cell_type": "code",
   "execution_count": null,
   "metadata": {},
   "outputs": [],
   "source": []
  }
 ],
 "metadata": {
  "interpreter": {
   "hash": "a23fd70e4d6ed63254d4ed0ff627a3afc643ceb12e09e331cffbeb8b1df60add"
  },
  "kernelspec": {
   "display_name": "Python 3.7.10 64-bit ('pytorch': conda)",
   "language": "python",
   "name": "python3"
  },
  "language_info": {
   "codemirror_mode": {
    "name": "ipython",
    "version": 3
   },
   "file_extension": ".py",
   "mimetype": "text/x-python",
   "name": "python",
   "nbconvert_exporter": "python",
   "pygments_lexer": "ipython3",
   "version": "3.8.12"
  },
  "orig_nbformat": 4
 },
 "nbformat": 4,
 "nbformat_minor": 2
}
