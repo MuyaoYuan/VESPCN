{
 "cells": [
  {
   "cell_type": "code",
   "execution_count": null,
   "metadata": {},
   "outputs": [],
   "source": [
    "import numpy as np\n",
    "import os"
   ]
  },
  {
   "cell_type": "code",
   "execution_count": null,
   "metadata": {},
   "outputs": [],
   "source": [
    "path_in = \"dataset/DIV2K_train_LR_bicubic_X2\"\n",
    "path_label = \"dataset/DIV2K_train_HR\"\n",
    "\n",
    "file_list_input = os.listdir(path_in)\n",
    "file_list_input.sort(key=lambda x:int(x[:-6]))\n",
    "file_list_label = os.listdir(path_label)\n",
    "file_list_label.sort(key=lambda x:int(x[:-4])) #倒着数第四位'.'为分界线，按照‘.'左边的数字从小到大排序"
   ]
  },
  {
   "cell_type": "code",
   "execution_count": null,
   "metadata": {},
   "outputs": [],
   "source": [
    "print(file_list_label)"
   ]
  },
  {
   "cell_type": "code",
   "execution_count": 1,
   "metadata": {},
   "outputs": [],
   "source": [
    "from torch.utils.data import Dataset, DataLoader\n",
    "from dataset import *"
   ]
  },
  {
   "cell_type": "code",
   "execution_count": 2,
   "metadata": {},
   "outputs": [],
   "source": [
    "train_path_in = \"dataset/DIV2K_train_LR_bicubic_X2\"\n",
    "train_path_label = \"dataset/DIV2K_train_HR\"\n",
    "valid_path_in = \"dataset/DIV2K_valid_LR_bicubic_X2\"\n",
    "valid_path_label = \"dataset/DIV2K_valid_HR\"\n",
    "batch_size = 1\n",
    "trainDataset = MyDataset(dir_input=train_path_in,dir_label=train_path_label,transform=ToTensor())\n",
    "# myDataLoader = DataLoader(myDataset, batch_size=batch_size, shuffle=True, collate_fn =my_collate)\n",
    "trainDataLoader = DataLoader(trainDataset, batch_size=batch_size, shuffle=True)\n",
    "validDataset = MyDataset(dir_input=valid_path_in,dir_label=valid_path_label,transform=ToTensor())\n",
    "validDataLoader = DataLoader(validDataset, batch_size=batch_size, shuffle=True)"
   ]
  },
  {
   "cell_type": "code",
   "execution_count": 7,
   "metadata": {},
   "outputs": [
    {
     "data": {
      "text/plain": [
       "[tensor([[[[0.0745, 0.1412, 0.0784,  ..., 0.4980, 0.4745, 0.3882],\n",
       "           [0.0392, 0.2588, 0.1804,  ..., 0.4000, 0.3961, 0.6314],\n",
       "           [0.0157, 0.1725, 0.1882,  ..., 0.2510, 0.4039, 0.4196],\n",
       "           ...,\n",
       "           [0.0235, 0.0196, 0.0118,  ..., 0.0275, 0.0314, 0.0392],\n",
       "           [0.0157, 0.0118, 0.0118,  ..., 0.0314, 0.0314, 0.0353],\n",
       "           [0.0078, 0.0118, 0.0157,  ..., 0.0314, 0.0353, 0.0353]],\n",
       " \n",
       "          [[0.0627, 0.1176, 0.0745,  ..., 0.5255, 0.5529, 0.4510],\n",
       "           [0.0275, 0.2353, 0.1882,  ..., 0.4196, 0.4510, 0.6902],\n",
       "           [0.0078, 0.1529, 0.2039,  ..., 0.2627, 0.4431, 0.4706],\n",
       "           ...,\n",
       "           [0.0549, 0.0392, 0.0275,  ..., 0.0588, 0.0667, 0.0667],\n",
       "           [0.0314, 0.0314, 0.0314,  ..., 0.0627, 0.0667, 0.0667],\n",
       "           [0.0275, 0.0314, 0.0314,  ..., 0.0627, 0.0667, 0.0667]],\n",
       " \n",
       "          [[0.0196, 0.0588, 0.0353,  ..., 0.3608, 0.3529, 0.3059],\n",
       "           [0.0078, 0.0980, 0.0941,  ..., 0.2745, 0.2980, 0.5059],\n",
       "           [0.0078, 0.0863, 0.1176,  ..., 0.1490, 0.2902, 0.3020],\n",
       "           ...,\n",
       "           [0.0627, 0.0471, 0.0275,  ..., 0.0706, 0.0784, 0.0784],\n",
       "           [0.0431, 0.0431, 0.0392,  ..., 0.0745, 0.0745, 0.0784],\n",
       "           [0.0392, 0.0431, 0.0431,  ..., 0.0784, 0.0784, 0.0784]]]]),\n",
       " tensor([[[[0.0627, 0.0863, 0.0745,  ..., 0.6000, 0.3137, 0.3373],\n",
       "           [0.0314, 0.1098, 0.2118,  ..., 0.3647, 0.2941, 0.4863],\n",
       "           [0.0039, 0.0941, 0.4000,  ..., 0.4706, 0.6588, 0.6588],\n",
       "           ...,\n",
       "           [0.0157, 0.0157, 0.0118,  ..., 0.0275, 0.0275, 0.0431],\n",
       "           [0.0118, 0.0118, 0.0157,  ..., 0.0392, 0.0392, 0.0392],\n",
       "           [0.0078, 0.0078, 0.0118,  ..., 0.0314, 0.0275, 0.0353]],\n",
       " \n",
       "          [[0.0471, 0.0824, 0.0627,  ..., 0.7059, 0.3961, 0.3961],\n",
       "           [0.0196, 0.0824, 0.1569,  ..., 0.4314, 0.3608, 0.5412],\n",
       "           [0.0039, 0.0706, 0.3529,  ..., 0.5294, 0.7255, 0.7059],\n",
       "           ...,\n",
       "           [0.0275, 0.0314, 0.0275,  ..., 0.0588, 0.0588, 0.0745],\n",
       "           [0.0314, 0.0314, 0.0314,  ..., 0.0706, 0.0706, 0.0706],\n",
       "           [0.0275, 0.0275, 0.0314,  ..., 0.0627, 0.0588, 0.0667]],\n",
       " \n",
       "          [[0.0118, 0.0275, 0.0196,  ..., 0.4549, 0.2275, 0.2784],\n",
       "           [0.0078, 0.0431, 0.0667,  ..., 0.2745, 0.2078, 0.4039],\n",
       "           [0.0000, 0.0275, 0.1608,  ..., 0.3608, 0.5137, 0.5490],\n",
       "           ...,\n",
       "           [0.0392, 0.0431, 0.0392,  ..., 0.0706, 0.0706, 0.0863],\n",
       "           [0.0431, 0.0431, 0.0431,  ..., 0.0824, 0.0824, 0.0824],\n",
       "           [0.0392, 0.0392, 0.0431,  ..., 0.0745, 0.0706, 0.0784]]]]),\n",
       " ('0876x2.png',),\n",
       " ('0876.png',)]"
      ]
     },
     "execution_count": 7,
     "metadata": {},
     "output_type": "execute_result"
    }
   ],
   "source": [
    "validDataIter = iter(validDataLoader)\n",
    "validDataIter.next()"
   ]
  }
 ],
 "metadata": {
  "interpreter": {
   "hash": "a23fd70e4d6ed63254d4ed0ff627a3afc643ceb12e09e331cffbeb8b1df60add"
  },
  "kernelspec": {
   "display_name": "Python 3.7.10 64-bit ('pytorch': conda)",
   "language": "python",
   "name": "python3"
  },
  "language_info": {
   "codemirror_mode": {
    "name": "ipython",
    "version": 3
   },
   "file_extension": ".py",
   "mimetype": "text/x-python",
   "name": "python",
   "nbconvert_exporter": "python",
   "pygments_lexer": "ipython3",
   "version": "3.8.12"
  },
  "orig_nbformat": 4
 },
 "nbformat": 4,
 "nbformat_minor": 2
}
