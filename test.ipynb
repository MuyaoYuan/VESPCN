{
 "cells": [
  {
   "cell_type": "code",
   "execution_count": null,
   "metadata": {},
   "outputs": [],
   "source": [
    "import numpy as np\n",
    "import os"
   ]
  },
  {
   "cell_type": "code",
   "execution_count": null,
   "metadata": {},
   "outputs": [],
   "source": [
    "path_in = \"dataset/DIV2K_train_LR_bicubic_X2\"\n",
    "path_label = \"dataset/DIV2K_train_HR\"\n",
    "\n",
    "file_list_input = os.listdir(path_in)\n",
    "file_list_input.sort(key=lambda x:int(x[:-6]))\n",
    "file_list_label = os.listdir(path_label)\n",
    "file_list_label.sort(key=lambda x:int(x[:-4])) #倒着数第四位'.'为分界线，按照‘.'左边的数字从小到大排序"
   ]
  },
  {
   "cell_type": "code",
   "execution_count": null,
   "metadata": {},
   "outputs": [],
   "source": [
    "print(file_list_label)"
   ]
  },
  {
   "cell_type": "code",
   "execution_count": null,
   "metadata": {},
   "outputs": [],
   "source": [
    "from PIL import Image\n",
    "import os"
   ]
  },
  {
   "cell_type": "code",
   "execution_count": null,
   "metadata": {},
   "outputs": [],
   "source": [
    "\n",
    "path = \"dataset/vimeo90k/vimeo_septuplet/sequences/00001/0001/im1.png\"\n",
    "save_path = \"im1.png\"\n",
    "downsample = 2\n",
    "img = Image.open(path)\n",
    "img_w, img_h = img.size\n",
    "img.thumbnail((img_w/downsample, img_h/downsample),Image.BICUBIC)\n",
    "img.save(save_path)"
   ]
  },
  {
   "cell_type": "code",
   "execution_count": null,
   "metadata": {},
   "outputs": [],
   "source": [
    "print('data process finished')"
   ]
  },
  {
   "cell_type": "code",
   "execution_count": null,
   "metadata": {},
   "outputs": [],
   "source": [
    "txt_file = \"dataset/vimeo90k/vimeo_triplet/tri_trainlist.txt\"\n",
    "with open(txt_file) as f:\n",
    "    train_l = f.readlines()\n",
    "    train_l = [v.strip() for v in train_l]\n",
    "print(train_l)"
   ]
  },
  {
   "cell_type": "code",
   "execution_count": 14,
   "metadata": {},
   "outputs": [
    {
     "name": "stdout",
     "output_type": "stream",
     "text": [
      "['im1.png', 'im3.png', 'im2.png']\n"
     ]
    }
   ],
   "source": [
    "input_path = \"dataset/vimeo90k/vimeo_triplet/sequences_LR_bicubic_X2/00034/0169\"\n",
    "input_list = os.listdir(input_path)\n",
    "print(input_list)"
   ]
  },
  {
   "cell_type": "code",
   "execution_count": 15,
   "metadata": {},
   "outputs": [
    {
     "name": "stdout",
     "output_type": "stream",
     "text": [
      "['im1.png', 'im2.png', 'im3.png']\n"
     ]
    }
   ],
   "source": [
    "input_list.sort(key=lambda x:int(x[-5:-4]))\n",
    "print(input_list)"
   ]
  },
  {
   "cell_type": "code",
   "execution_count": 1,
   "metadata": {},
   "outputs": [],
   "source": [
    "from torchvision.transforms.transforms import ToTensor\n",
    "import torch"
   ]
  },
  {
   "cell_type": "code",
   "execution_count": 19,
   "metadata": {},
   "outputs": [],
   "source": [
    "img_in=[]\n",
    "for i in range(len(input_list)):\n",
    "    img_in_item = Image.open(os.path.join(input_path, input_list[i]))\n",
    "    img_in_item = ToTensor()(img_in_item)\n",
    "    img_in.append(img_in_item)"
   ]
  },
  {
   "cell_type": "code",
   "execution_count": 21,
   "metadata": {},
   "outputs": [
    {
     "name": "stdout",
     "output_type": "stream",
     "text": [
      "torch.Size([3, 128, 224])\n"
     ]
    }
   ],
   "source": [
    "print(img_in[0].shape)"
   ]
  },
  {
   "cell_type": "code",
   "execution_count": 24,
   "metadata": {},
   "outputs": [],
   "source": [
    "tensor_in = torch.stack(img_in, dim=0)"
   ]
  },
  {
   "cell_type": "code",
   "execution_count": 25,
   "metadata": {},
   "outputs": [
    {
     "name": "stdout",
     "output_type": "stream",
     "text": [
      "torch.Size([3, 3, 128, 224])\n"
     ]
    }
   ],
   "source": [
    "print(tensor_in.shape)"
   ]
  },
  {
   "cell_type": "code",
   "execution_count": 41,
   "metadata": {},
   "outputs": [],
   "source": [
    "a = torch.rand(3,5,6)\n",
    "b = torch.ones(3,5,6)\n",
    "c = torch.zeros(3,5,6)\n",
    "d = torch.ones(3,5,6)"
   ]
  },
  {
   "cell_type": "code",
   "execution_count": 42,
   "metadata": {},
   "outputs": [
    {
     "name": "stdout",
     "output_type": "stream",
     "text": [
      "torch.Size([4, 3, 5, 6])\n"
     ]
    }
   ],
   "source": [
    "e = torch.stack([a,b,c,d],0)\n",
    "print(e.shape)"
   ]
  },
  {
   "cell_type": "code",
   "execution_count": 43,
   "metadata": {},
   "outputs": [
    {
     "name": "stdout",
     "output_type": "stream",
     "text": [
      "torch.Size([3, 4, 5, 6])\n"
     ]
    }
   ],
   "source": [
    "e = torch.stack([a,b,c,d],1)\n",
    "print(e.shape)"
   ]
  },
  {
   "cell_type": "code",
   "execution_count": 44,
   "metadata": {},
   "outputs": [
    {
     "name": "stdout",
     "output_type": "stream",
     "text": [
      "torch.Size([12, 5, 6])\n"
     ]
    }
   ],
   "source": [
    "e = torch.cat([a,b,c,d],0)\n",
    "print(e.shape)"
   ]
  },
  {
   "cell_type": "code",
   "execution_count": 47,
   "metadata": {},
   "outputs": [
    {
     "name": "stdout",
     "output_type": "stream",
     "text": [
      "torch.Size([3, 3, 5, 6])\n",
      "torch.Size([9, 5, 6])\n",
      "tensor([[[0.4855, 0.1402, 0.0061, 0.0055, 0.2736, 0.7456],\n",
      "         [0.2720, 0.0601, 0.2566, 0.7092, 0.3708, 0.3471],\n",
      "         [0.4492, 0.8624, 0.2733, 0.7018, 0.0755, 0.4049],\n",
      "         [0.4433, 0.2099, 0.9330, 0.6830, 0.5040, 0.4382],\n",
      "         [0.0881, 0.2098, 0.7811, 0.6922, 0.9478, 0.3166]],\n",
      "\n",
      "        [[0.5855, 0.9014, 0.2089, 0.7626, 0.2254, 0.8949],\n",
      "         [0.9622, 0.4507, 0.6341, 0.2825, 0.5547, 0.6755],\n",
      "         [0.1547, 0.0917, 0.4727, 0.0775, 0.4684, 0.6988],\n",
      "         [0.1122, 0.4374, 0.0036, 0.7472, 0.2894, 0.2856],\n",
      "         [0.7450, 0.6300, 0.0281, 0.0172, 0.8547, 0.8730]],\n",
      "\n",
      "        [[0.1766, 0.5348, 0.8384, 0.5699, 0.1663, 0.4848],\n",
      "         [0.8677, 0.7291, 0.3016, 0.8991, 0.9281, 0.1155],\n",
      "         [0.4663, 0.8828, 0.8626, 0.1728, 0.8224, 0.2001],\n",
      "         [0.1748, 0.9949, 0.7370, 0.7037, 0.6376, 0.8093],\n",
      "         [0.7024, 0.0262, 0.1148, 0.6767, 0.4605, 0.9135]],\n",
      "\n",
      "        [[1.0000, 1.0000, 1.0000, 1.0000, 1.0000, 1.0000],\n",
      "         [1.0000, 1.0000, 1.0000, 1.0000, 1.0000, 1.0000],\n",
      "         [1.0000, 1.0000, 1.0000, 1.0000, 1.0000, 1.0000],\n",
      "         [1.0000, 1.0000, 1.0000, 1.0000, 1.0000, 1.0000],\n",
      "         [1.0000, 1.0000, 1.0000, 1.0000, 1.0000, 1.0000]],\n",
      "\n",
      "        [[1.0000, 1.0000, 1.0000, 1.0000, 1.0000, 1.0000],\n",
      "         [1.0000, 1.0000, 1.0000, 1.0000, 1.0000, 1.0000],\n",
      "         [1.0000, 1.0000, 1.0000, 1.0000, 1.0000, 1.0000],\n",
      "         [1.0000, 1.0000, 1.0000, 1.0000, 1.0000, 1.0000],\n",
      "         [1.0000, 1.0000, 1.0000, 1.0000, 1.0000, 1.0000]],\n",
      "\n",
      "        [[1.0000, 1.0000, 1.0000, 1.0000, 1.0000, 1.0000],\n",
      "         [1.0000, 1.0000, 1.0000, 1.0000, 1.0000, 1.0000],\n",
      "         [1.0000, 1.0000, 1.0000, 1.0000, 1.0000, 1.0000],\n",
      "         [1.0000, 1.0000, 1.0000, 1.0000, 1.0000, 1.0000],\n",
      "         [1.0000, 1.0000, 1.0000, 1.0000, 1.0000, 1.0000]],\n",
      "\n",
      "        [[0.0000, 0.0000, 0.0000, 0.0000, 0.0000, 0.0000],\n",
      "         [0.0000, 0.0000, 0.0000, 0.0000, 0.0000, 0.0000],\n",
      "         [0.0000, 0.0000, 0.0000, 0.0000, 0.0000, 0.0000],\n",
      "         [0.0000, 0.0000, 0.0000, 0.0000, 0.0000, 0.0000],\n",
      "         [0.0000, 0.0000, 0.0000, 0.0000, 0.0000, 0.0000]],\n",
      "\n",
      "        [[0.0000, 0.0000, 0.0000, 0.0000, 0.0000, 0.0000],\n",
      "         [0.0000, 0.0000, 0.0000, 0.0000, 0.0000, 0.0000],\n",
      "         [0.0000, 0.0000, 0.0000, 0.0000, 0.0000, 0.0000],\n",
      "         [0.0000, 0.0000, 0.0000, 0.0000, 0.0000, 0.0000],\n",
      "         [0.0000, 0.0000, 0.0000, 0.0000, 0.0000, 0.0000]],\n",
      "\n",
      "        [[0.0000, 0.0000, 0.0000, 0.0000, 0.0000, 0.0000],\n",
      "         [0.0000, 0.0000, 0.0000, 0.0000, 0.0000, 0.0000],\n",
      "         [0.0000, 0.0000, 0.0000, 0.0000, 0.0000, 0.0000],\n",
      "         [0.0000, 0.0000, 0.0000, 0.0000, 0.0000, 0.0000],\n",
      "         [0.0000, 0.0000, 0.0000, 0.0000, 0.0000, 0.0000]]])\n"
     ]
    }
   ],
   "source": [
    "e = torch.stack([a,b,c],0)\n",
    "print(e.shape)\n",
    "e = e.view(-1,5,6)\n",
    "print(e.shape)\n",
    "print(e)"
   ]
  },
  {
   "cell_type": "code",
   "execution_count": 56,
   "metadata": {},
   "outputs": [
    {
     "name": "stdout",
     "output_type": "stream",
     "text": [
      "torch.Size([3, 3, 5, 6])\n",
      "torch.Size([9, 5, 6])\n",
      "torch.Size([9, 5, 6])\n"
     ]
    }
   ],
   "source": [
    "e = torch.stack([a,b,c],0)\n",
    "print(e.shape)\n",
    "# torch.flatten(input, start_dim=0, end_dim=-1)\n",
    "f = e.view(-1,5,6)\n",
    "print(f.shape)\n",
    "g = e.flatten(0,1)\n",
    "print(g.shape)\n",
    "# print(e)"
   ]
  },
  {
   "cell_type": "code",
   "execution_count": 2,
   "metadata": {},
   "outputs": [],
   "source": [
    "a = torch.zeros(1,3,3,256,448)"
   ]
  },
  {
   "cell_type": "code",
   "execution_count": 7,
   "metadata": {},
   "outputs": [
    {
     "data": {
      "text/plain": [
       "5"
      ]
     },
     "execution_count": 7,
     "metadata": {},
     "output_type": "execute_result"
    }
   ],
   "source": [
    "len(a.shape)"
   ]
  },
  {
   "cell_type": "code",
   "execution_count": 8,
   "metadata": {},
   "outputs": [
    {
     "data": {
      "text/plain": [
       "1"
      ]
     },
     "execution_count": 8,
     "metadata": {},
     "output_type": "execute_result"
    }
   ],
   "source": [
    "a.shape[0]"
   ]
  },
  {
   "cell_type": "code",
   "execution_count": 12,
   "metadata": {},
   "outputs": [
    {
     "data": {
      "text/plain": [
       "torch.Size([1, 9, 256, 448])"
      ]
     },
     "execution_count": 12,
     "metadata": {},
     "output_type": "execute_result"
    }
   ],
   "source": [
    "a.flatten(1,2).shape"
   ]
  },
  {
   "cell_type": "code",
   "execution_count": 14,
   "metadata": {},
   "outputs": [
    {
     "name": "stdout",
     "output_type": "stream",
     "text": [
      "2\n"
     ]
    }
   ],
   "source": [
    "print(int(5/2))"
   ]
  },
  {
   "cell_type": "code",
   "execution_count": null,
   "metadata": {},
   "outputs": [],
   "source": []
  }
 ],
 "metadata": {
  "interpreter": {
   "hash": "a23fd70e4d6ed63254d4ed0ff627a3afc643ceb12e09e331cffbeb8b1df60add"
  },
  "kernelspec": {
   "display_name": "Python 3.7.10 64-bit ('pytorch': conda)",
   "language": "python",
   "name": "python3"
  },
  "language_info": {
   "codemirror_mode": {
    "name": "ipython",
    "version": 3
   },
   "file_extension": ".py",
   "mimetype": "text/x-python",
   "name": "python",
   "nbconvert_exporter": "python",
   "pygments_lexer": "ipython3",
   "version": "3.8.12"
  },
  "orig_nbformat": 4
 },
 "nbformat": 4,
 "nbformat_minor": 2
}
